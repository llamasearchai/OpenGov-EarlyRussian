{
  "cells": [
    {
      "cell_type": "markdown",
      "metadata": {},
      "source": [
        "# OpenGov-EarlyRussian - Getting Started\n",
        "\n",
        "**Author:** Nik Jois <nikjois@llamasearch.ai>\n",
        "\n",
        "This notebook introduces the core features of OpenGov-EarlyRussian, an AI-powered Russian language learning platform.\n"
      ]
    },
    {
      "cell_type": "markdown",
      "metadata": {},
      "source": [
        "## 1. Import the Package\n"
      ]
    },
    {
      "cell_type": "code",
      "execution_count": null,
      "metadata": {},
      "outputs": [],
      "source": [
        "from opengov_earlyrussian import (\n",
        "    AlphabetTeacher,\n",
        "    PronunciationCoach,\n",
        "    CasesTeacher,\n",
        "    VerbConjugator,\n",
        "    Transliterator,\n",
        "    BusinessRussian,\n",
        "    CulturalGuide,\n",
        "    SRS,\n",
        "    __version__\n",
        ")\n",
        "import json\n",
        "\n",
        "print(f\"OpenGov-EarlyRussian version: {__version__}\")\n",
        "print(\"All modules imported successfully!\")\n"
      ]
    },
    {
      "cell_type": "markdown",
      "metadata": {},
      "source": [
        "## 2. Learn the Cyrillic Alphabet\n",
        "\n",
        "The AlphabetTeacher helps you learn the Russian alphabet with mnemonics and organized letter groups.\n"
      ]
    },
    {
      "cell_type": "code",
      "execution_count": null,
      "metadata": {},
      "outputs": [],
      "source": [
        "teacher = AlphabetTeacher()\n",
        "\n",
        "# Get basic consonants\n",
        "basic = teacher.get_row(\"basic\")\n",
        "print(\"Basic Consonants:\")\n",
        "for letter in basic[\"letters\"]:\n",
        "    print(f\"  {letter['letter']} = {letter['transliteration']} (sounds like '{letter['sound']}')\")\n",
        "\n",
        "print(\"\\n\" + \"=\"*60)\n",
        "\n",
        "# Get a mnemonic for a specific letter\n",
        "mnemonic = teacher.mnemonic(\"Ж\")\n",
        "print(f\"\\n{mnemonic}\")\n"
      ]
    },
    {
      "cell_type": "markdown",
      "metadata": {},
      "source": [
        "## 3. Practice Pronunciation\n",
        "\n",
        "The PronunciationCoach teaches Russian phonetics and pronunciation rules.\n"
      ]
    },
    {
      "cell_type": "code",
      "execution_count": null,
      "metadata": {},
      "outputs": [],
      "source": [
        "coach = PronunciationCoach()\n",
        "\n",
        "# Learn about vowel reduction\n",
        "vowel_reduction = coach.get_feature(\"vowel_reduction\")\n",
        "print(\"Vowel Reduction Rule:\")\n",
        "print(f\"  Rule: {vowel_reduction['rule']}\")\n",
        "print(f\"  Examples: {', '.join(vowel_reduction['examples'])}\")\n",
        "\n",
        "print(\"\\n\" + \"=\"*60)\n",
        "\n",
        "# Practice with minimal pairs\n",
        "minimal_pairs = coach.minimal_pairs(\"hard_soft_consonants\")\n",
        "print(f\"\\nMinimal Pairs for Hard vs Soft Consonants:\")\n",
        "for pair in minimal_pairs:\n",
        "    print(f\"  {pair['word1']} ({pair['meaning1']}) vs {pair['word2']} ({pair['meaning2']})\")\n"
      ]
    },
    {
      "cell_type": "markdown",
      "metadata": {},
      "source": [
        "## 4. Master the Six Cases\n",
        "\n",
        "The CasesTeacher helps you decline nouns through all six Russian cases.\n"
      ]
    },
    {
      "cell_type": "code",
      "execution_count": null,
      "metadata": {},
      "outputs": [],
      "source": [
        "cases_teacher = CasesTeacher()\n",
        "\n",
        "# Decline a feminine noun\n",
        "print(\"Declining 'книга' (book - feminine):\")\n",
        "declined = cases_teacher.decline_noun(\"книга\", \"feminine\")\n",
        "for case, form in declined.items():\n",
        "    print(f\"  {case:15s}: {form}\")\n",
        "\n",
        "print(\"\\n\" + \"=\"*60)\n",
        "\n",
        "# Decline a masculine noun (animate)\n",
        "print(\"\\nDeclining 'студент' (student - masculine animate):\")\n",
        "declined = cases_teacher.decline_noun(\"студент\", \"masculine\", animate=True)\n",
        "for case, form in declined.items():\n",
        "    print(f\"  {case:15s}: {form}\")\n"
      ]
    },
    {
      "cell_type": "markdown",
      "metadata": {},
      "source": [
        "## 5. Conjugate Verbs\n",
        "\n",
        "The VerbConjugator handles verb conjugation with aspect pairs.\n"
      ]
    },
    {
      "cell_type": "code",
      "execution_count": null,
      "metadata": {},
      "outputs": [],
      "source": [
        "conjugator = VerbConjugator()\n",
        "\n",
        "# Conjugate a verb in present tense\n",
        "print(\"Conjugating 'читать' (to read) in present tense:\")\n",
        "conjugated = conjugator.conjugate(\"читать\", \"present\")\n",
        "print(f\"  Tense: {conjugated['tense']}\")\n",
        "for person, form in conjugated['forms'].items():\n",
        "    print(f\"  {person:5s}: {form}\")\n",
        "\n",
        "print(\"\\n\" + \"=\"*60)\n",
        "\n",
        "# Find aspect pair\n",
        "print(\"\\nAspect pair for 'читать':\")\n",
        "pair = conjugator.aspect_pair(\"читать\")\n",
        "print(f\"  {pair}\")\n",
        "\n",
        "print(\"\\nAspect pair for 'прочитать':\")\n",
        "pair = conjugator.aspect_pair(\"прочитать\")\n",
        "print(f\"  {pair}\")\n"
      ]
    },
    {
      "cell_type": "markdown",
      "metadata": {},
      "source": [
        "## 6. Transliterate Names and Words\n",
        "\n",
        "The Transliterator converts Latin text to Russian Cyrillic.\n"
      ]
    },
    {
      "cell_type": "code",
      "execution_count": null,
      "metadata": {},
      "outputs": [],
      "source": [
        "transliterator = Transliterator()\n",
        "\n",
        "# Transliterate names\n",
        "names = [\"Vladimir Putin\", \"Mikhail Lomonosov\", \"Anna Karenina\"]\n",
        "print(\"Transliterating names to Russian:\")\n",
        "for name in names:\n",
        "    russian = transliterator.to_russian(name)\n",
        "    print(f\"  {name:20s} → {russian}\")\n",
        "\n",
        "print(\"\\n\" + \"=\"*60)\n",
        "\n",
        "# Transliterate words\n",
        "words = [\"spasibo\", \"pozhaluysta\", \"zdravstvuyte\"]\n",
        "print(\"\\nTransliterating common words:\")\n",
        "for word in words:\n",
        "    russian = transliterator.to_russian(word)\n",
        "    print(f\"  {word:15s} → {russian}\")\n"
      ]
    },
    {
      "cell_type": "markdown",
      "metadata": {},
      "source": [
        "## 7. Learn Business Russian\n",
        "\n",
        "BusinessRussian provides templates for professional communication.\n"
      ]
    },
    {
      "cell_type": "code",
      "execution_count": null,
      "metadata": {},
      "outputs": [],
      "source": [
        "business = BusinessRussian()\n",
        "\n",
        "# Get formal greeting email template\n",
        "print(\"Formal Greeting Email Template:\")\n",
        "template = business.email_template(\"formal_greeting\")\n",
        "print(f\"\\n{template}\\n\")\n",
        "\n",
        "print(\"=\"*60)\n",
        "\n",
        "# Get phone conversation phrases\n",
        "print(\"\\nPhone Conversation Phrases:\")\n",
        "phrases = business.phone_phrases()\n",
        "for phrase in phrases[:5]:  # Show first 5\n",
        "    print(f\"  {phrase['russian']}\")\n",
        "    print(f\"    → {phrase['english']}\\n\")\n"
      ]
    },
    {
      "cell_type": "markdown",
      "metadata": {},
      "source": [
        "## 8. Explore Russian Culture\n",
        "\n",
        "CulturalGuide provides information about Russian regions, holidays, and etiquette.\n"
      ]
    },
    {
      "cell_type": "code",
      "execution_count": null,
      "metadata": {},
      "outputs": [],
      "source": [
        "cultural_guide = CulturalGuide()\n",
        "\n",
        "# Learn about Moscow\n",
        "print(\"Information about Moscow:\")\n",
        "info = cultural_guide.region_info(\"moscow\")\n",
        "print(f\"  {info}\\n\")\n",
        "\n",
        "print(\"=\"*60)\n",
        "\n",
        "# Learn about a holiday\n",
        "print(\"\\nInformation about New Year:\")\n",
        "holiday = cultural_guide.holiday_info(\"new_year\")\n",
        "print(f\"  {holiday}\\n\")\n",
        "\n",
        "print(\"=\"*60)\n",
        "\n",
        "# Learn etiquette tips\n",
        "print(\"\\nRussian Etiquette Tips:\")\n",
        "for tip in cultural_guide.etiquette_tips()[:3]:\n",
        "    print(f\"  - {tip}\")\n"
      ]
    },
    {
      "cell_type": "markdown",
      "metadata": {},
      "source": [
        "## 9. Practice with Spaced Repetition\n",
        "\n",
        "The SRS system helps you remember vocabulary using spaced repetition.\n"
      ]
    },
    {
      "cell_type": "code",
      "execution_count": null,
      "metadata": {},
      "outputs": [],
      "source": [
        "srs = SRS()\n",
        "\n",
        "# Add vocabulary items\n",
        "vocabulary = [\n",
        "    (\"hello\", \"Translate: hello\", \"Здравствуйте\"),\n",
        "    (\"thank_you\", \"Translate: thank you\", \"Спасибо\"),\n",
        "    (\"please\", \"Translate: please\", \"Пожалуйста\"),\n",
        "    (\"goodbye\", \"Translate: goodbye\", \"До свидания\"),\n",
        "]\n",
        "\n",
        "print(\"Adding vocabulary items to SRS:\")\n",
        "for item_id, prompt, answer in vocabulary:\n",
        "    srs.add(item_id, prompt, answer)\n",
        "    print(f\"  Added: {prompt} → {answer}\")\n",
        "\n",
        "print(\"\\n\" + \"=\"*60)\n",
        "\n",
        "# Get items due for review\n",
        "print(\"\\nItems due for review:\")\n",
        "due = srs.due_items()\n",
        "print(f\"  {len(due)} items due\")\n",
        "\n",
        "# Review an item (simulate getting it right)\n",
        "if due:\n",
        "    item = due[0]\n",
        "    print(f\"\\n  Reviewing: {item.prompt}\")\n",
        "    print(f\"  Answer: {item.answer}\")\n",
        "    reviewed = srs.review(item.id, \"good\")\n",
        "    print(f\"  Next review in {reviewed.interval} days\")\n"
      ]
    },
    {
      "cell_type": "markdown",
      "metadata": {},
      "source": [
        "## 10. Putting It All Together\n",
        "\n",
        "Let's create a mini Russian lesson combining multiple features.\n"
      ]
    },
    {
      "cell_type": "code",
      "execution_count": null,
      "metadata": {},
      "outputs": [],
      "source": [
        "print(\"=\"*60)\n",
        "print(\"MINI RUSSIAN LESSON: THE WORD 'КНИГА' (BOOK)\")\n",
        "print(\"=\"*60)\n",
        "\n",
        "# 1. Transliterate\n",
        "print(\"\\n1. Transliteration:\")\n",
        "print(f\"   'kniga' → {transliterator.to_russian('kniga')}\")\n",
        "\n",
        "# 2. Decline through cases\n",
        "print(\"\\n2. Declension (all six cases):\")\n",
        "declined = cases_teacher.decline_noun(\"книга\", \"feminine\")\n",
        "for i, (case, form) in enumerate(declined.items(), 1):\n",
        "    print(f\"   {i}. {case:15s}: {form}\")\n",
        "\n",
        "# 3. Create a sentence with verb\n",
        "print(\"\\n3. Example with verb conjugation:\")\n",
        "print(\"   'читать' (to read) conjugated:\")\n",
        "conjugated = conjugator.conjugate(\"читать\", \"present\")\n",
        "print(f\"   я {conjugated['forms']['я']} книгу (I read a book)\")\n",
        "print(f\"   ты {conjugated['forms']['ты']} книгу (you read a book)\")\n",
        "\n",
        "# 4. Add to SRS for practice\n",
        "srs.add(\"book_nom\", \"Nominative case of 'книга':\", declined[\"именительный\"])\n",
        "srs.add(\"book_gen\", \"Genitive case of 'книга':\", declined[\"родительный\"])\n",
        "print(\"\\n4. Added to SRS for future review!\")\n",
        "\n",
        "print(\"\\n\" + \"=\"*60)\n",
        "print(\"LESSON COMPLETE!\")\n",
        "print(\"=\"*60)\n"
      ]
    },
    {
      "cell_type": "markdown",
      "metadata": {},
      "source": [
        "## Next Steps\n",
        "\n",
        "Now that you've learned the basics, here's how to continue:\n",
        "\n",
        "**1. Explore the API Server:**\n",
        "```bash\n",
        "# Start the server\n",
        "uvicorn opengov_earlyrussian.api.main:app --reload\n",
        "\n",
        "# Visit the docs at http://localhost:8000/docs\n",
        "```\n",
        "\n",
        "**2. Use the CLI:**\n",
        "```bash\n",
        "# Learn more about CLI commands\n",
        "russian --help\n",
        "\n",
        "# Try various features\n",
        "russian alphabet iotated\n",
        "russian decline книга feminine\n",
        "russian conjugate читать --tense present\n",
        "```\n",
        "\n",
        "**3. Integrate with OpenAI:**\n",
        "```python\n",
        "from opengov_earlyrussian.ai.conversation import AIConversationPartner\n",
        "\n",
        "# Set your OpenAI API key in .env file\n",
        "partner = AIConversationPartner(level=\"A2\", formal=False)\n",
        "response = partner.chat(\"Привет! Как дела?\")\n",
        "print(response)\n",
        "```\n",
        "\n",
        "**4. Read the Documentation:**\n",
        "- README.md - Full documentation\n",
        "- QUICKSTART.md - Quick start guide\n",
        "- CONTRIBUTING.md - How to contribute\n",
        "\n",
        "**5. Practice Regularly:**\n",
        "- Use the SRS system daily\n",
        "- Try the example scripts in the examples/ folder\n",
        "- Build your own Russian learning tools\n",
        "\n",
        "---\n",
        "\n",
        "**Happy Learning!**\n",
        "\n",
        "For questions or issues, contact: nikjois@llamasearch.ai\n"
      ]
    }
  ],
  "metadata": {
    "language_info": {
      "name": "python"
    }
  },
  "nbformat": 4,
  "nbformat_minor": 2
}
